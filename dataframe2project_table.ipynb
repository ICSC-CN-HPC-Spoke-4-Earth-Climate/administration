{
 "cells": [
  {
   "cell_type": "markdown",
   "metadata": {},
   "source": [
    "# DataFrame2ProjectTable\n",
    "\n",
    "Load a DataFrame of repositories and write it to a GitHub project table"
   ]
  },
  {
   "cell_type": "code",
   "execution_count": 1,
   "metadata": {},
   "outputs": [],
   "source": [
    "import os\n",
    "from dotenv import load_dotenv\n",
    "\n",
    "import pandas as pd\n",
    "import requests"
   ]
  },
  {
   "cell_type": "code",
   "execution_count": 2,
   "metadata": {},
   "outputs": [
    {
     "data": {
      "text/plain": [
       "True"
      ]
     },
     "execution_count": 2,
     "metadata": {},
     "output_type": "execute_result"
    }
   ],
   "source": [
    "load_dotenv()"
   ]
  },
  {
   "cell_type": "markdown",
   "metadata": {},
   "source": [
    "## Configuration"
   ]
  },
  {
   "cell_type": "code",
   "execution_count": 3,
   "metadata": {},
   "outputs": [],
   "source": [
    "url = 'https://api.github.com/graphql'\n",
    "token = os.getenv('ICSC_GITHUB_ORG_PAT')\n",
    "\n",
    "org_name = \"ICSC-CN-HPC-Spoke-4-Earth-Climate\"\n",
    "proj_num = 3"
   ]
  },
  {
   "cell_type": "markdown",
   "metadata": {},
   "source": [
    "## Get project ID"
   ]
  },
  {
   "cell_type": "code",
   "execution_count": 99,
   "metadata": {},
   "outputs": [
    {
     "name": "stdout",
     "output_type": "stream",
     "text": [
      "Success: {'data': {'organization': {'projectV2': {'id': 'PVT_kwDOCY2ck84Aj7Zu'}}}}\n"
     ]
    }
   ],
   "source": [
    "# Query GraphQL\n",
    "query = \"\"\"\n",
    "query ($login: String!, $number: Int!) {\n",
    "  organization(login: $login) {\n",
    "    projectV2(number: $number) {\n",
    "      id\n",
    "    }\n",
    "  }\n",
    "}\n",
    "\"\"\"\n",
    "\n",
    "# Intestazioni della richiesta\n",
    "headers = {\n",
    "    'Authorization': f'Bearer {token}',\n",
    "    \"Accept\": \"application/vnd.github.v4+json\",\n",
    "    'Content-Type': 'application/json'\n",
    "}\n",
    "\n",
    "# Dati della richiesta (payload)\n",
    "payload = {\n",
    "    \"query\": query,\n",
    "    \"variables\": {\n",
    "        \"login\": org_name,\n",
    "        \"number\": proj_num\n",
    "    }\n",
    "}\n",
    "\n",
    "response = requests.post(url, json=payload, headers=headers)\n",
    "\n",
    "if response.status_code == 200:\n",
    "    print('Success:', response.json())\n",
    "else:\n",
    "    print('Error:', response.status_code, response.text)"
   ]
  },
  {
   "cell_type": "code",
   "execution_count": 100,
   "metadata": {},
   "outputs": [
    {
     "name": "stdout",
     "output_type": "stream",
     "text": [
      "Project ID: PVT_kwDOCY2ck84Aj7Zu\n"
     ]
    }
   ],
   "source": [
    "project_id = response.json()['data']['organization']['projectV2']['id']\n",
    "print(f'Project ID: {project_id}')"
   ]
  },
  {
   "cell_type": "markdown",
   "metadata": {},
   "source": [
    "## Get Table Fields IDs"
   ]
  },
  {
   "cell_type": "code",
   "execution_count": 101,
   "metadata": {},
   "outputs": [
    {
     "name": "stdout",
     "output_type": "stream",
     "text": [
      "Success: {'data': {'node': {'fields': {'nodes': [{'id': 'PVTF_lADOCY2ck84Aj7ZuzgcNuBQ', 'name': 'Title'}, {'id': 'PVTF_lADOCY2ck84Aj7ZuzgcNuBU', 'name': 'Assignees'}, {'id': 'PVTSSF_lADOCY2ck84Aj7ZuzgcNuBY', 'name': 'Status', 'options': [{'id': 'f75ad846', 'name': 'Todo'}, {'id': '47fc9ee4', 'name': 'In Progress'}, {'id': '98236657', 'name': 'Done'}]}, {'id': 'PVTF_lADOCY2ck84Aj7ZuzgcNuBc', 'name': 'Labels'}, {'id': 'PVTF_lADOCY2ck84Aj7ZuzgcNuBg', 'name': 'Linked pull requests'}, {'id': 'PVTF_lADOCY2ck84Aj7ZuzgcNuBk', 'name': 'Milestone'}, {'id': 'PVTF_lADOCY2ck84Aj7ZuzgcNuBo', 'name': 'Repository'}, {'id': 'PVTF_lADOCY2ck84Aj7ZuzgcNuB4', 'name': 'Reviewers'}, {'id': 'PVTF_lADOCY2ck84Aj7ZuzgcdIVo', 'name': 'Repository name'}, {'id': 'PVTF_lADOCY2ck84Aj7ZuzgcdIVs', 'name': 'WP'}, {'id': 'PVTF_lADOCY2ck84Aj7ZuzgcdIWg', 'name': 'Task'}, {'id': 'PVTF_lADOCY2ck84Aj7ZuzgcdIZs', 'name': 'Repository manager'}, {'id': 'PVTF_lADOCY2ck84Aj7ZuzgcdIaw', 'name': 'Collaborators'}, {'id': 'PVTSSF_lADOCY2ck84Aj7ZuzgcdIio', 'name': 'Visibility', 'options': [{'id': '8f5b6473', 'name': 'Private'}, {'id': '169bd872', 'name': 'Public'}]}]}}}}\n"
     ]
    }
   ],
   "source": [
    "query = f\"\"\"\n",
    "query {{\n",
    "  node(id: \"{project_id}\") {{\n",
    "    ... on ProjectV2 {{\n",
    "      fields(first: 20) {{\n",
    "        nodes {{\n",
    "          ... on ProjectV2Field {{\n",
    "            id\n",
    "            name\n",
    "          }}\n",
    "          ... on ProjectV2IterationField {{\n",
    "            id\n",
    "            name\n",
    "            configuration {{\n",
    "              iterations {{\n",
    "                startDate\n",
    "                id\n",
    "              }}\n",
    "            }}\n",
    "          }}\n",
    "          ... on ProjectV2SingleSelectField {{\n",
    "            id\n",
    "            name\n",
    "            options {{\n",
    "              id\n",
    "              name\n",
    "            }}\n",
    "          }}\n",
    "        }}\n",
    "      }}\n",
    "    }}\n",
    "  }}\n",
    "}}\n",
    "\"\"\"\n",
    "\n",
    "headers = {\n",
    "    'Authorization': f'Bearer {token}',\n",
    "    \"Accept\": \"application/vnd.github.v4+json\",\n",
    "    'Content-Type': 'application/json'\n",
    "}\n",
    "\n",
    "\n",
    "data = {\n",
    "    'query': query\n",
    "}\n",
    "\n",
    "response = requests.post(url, json=data, headers=headers)\n",
    "\n",
    "if response.status_code == 200:\n",
    "    print('Success:', response.json())\n",
    "else:\n",
    "    print('Error:', response.status_code, response.text)"
   ]
  },
  {
   "cell_type": "code",
   "execution_count": 102,
   "metadata": {},
   "outputs": [
    {
     "name": "stdout",
     "output_type": "stream",
     "text": [
      "Repository name:\t PVTF_lADOCY2ck84Aj7ZuzgcdIVo\n",
      "WP:\t PVTF_lADOCY2ck84Aj7ZuzgcdIVs\n",
      "Task:\t PVTF_lADOCY2ck84Aj7ZuzgcdIWg\n",
      "Repository manager:\t PVTF_lADOCY2ck84Aj7ZuzgcdIZs\n",
      "Collaborators:\t PVTF_lADOCY2ck84Aj7ZuzgcdIaw\n",
      "Visibility:\t PVTSSF_lADOCY2ck84Aj7ZuzgcdIio\n",
      "\n",
      "Visibility Options:\n",
      "Private:\t 8f5b6473\n",
      "Public:\t 169bd872\n"
     ]
    }
   ],
   "source": [
    "fields = response.json()['data']['node']['fields']['nodes']\n",
    "#print(fields)\n",
    "idx = next((index for (index,field) in enumerate(fields) if field['name'] == 'Repository name'),-1)\n",
    "field_id = {field['name'] : field['id'] for field in fields[idx:]}\n",
    " \n",
    "# For visibility (single-select field)\n",
    "visib = [f for f in fields if f['name']=='Visibility'][0]\n",
    "#print(visib)\n",
    "\n",
    "visib_id = {}\n",
    "\n",
    "visib_private = [f for f in visib['options'] if f['name'] == 'Private']\n",
    "visib_id['Private'] = visib_private[0]['id']\n",
    "\n",
    "visib_public = [f for f in visib['options'] if f['name'] == 'Public']\n",
    "visib_id['Public'] = visib_public[0]['id']\n",
    "\n",
    "#print\n",
    "for n in field_id:\n",
    "    print(f'{n}:\\t {field_id[n]}')\n",
    "\n",
    "print('\\nVisibility Options:')\n",
    "for i in visib_id:\n",
    "    print(f'{i}:\\t {visib_id[i]}')"
   ]
  },
  {
   "cell_type": "markdown",
   "metadata": {},
   "source": [
    "## Load the DataFrame"
   ]
  },
  {
   "cell_type": "code",
   "execution_count": 103,
   "metadata": {},
   "outputs": [
    {
     "data": {
      "text/html": [
       "<div>\n",
       "<style scoped>\n",
       "    .dataframe tbody tr th:only-of-type {\n",
       "        vertical-align: middle;\n",
       "    }\n",
       "\n",
       "    .dataframe tbody tr th {\n",
       "        vertical-align: top;\n",
       "    }\n",
       "\n",
       "    .dataframe thead th {\n",
       "        text-align: right;\n",
       "    }\n",
       "</style>\n",
       "<table border=\"1\" class=\"dataframe\">\n",
       "  <thead>\n",
       "    <tr style=\"text-align: right;\">\n",
       "      <th></th>\n",
       "      <th>Issue Number</th>\n",
       "      <th>Title</th>\n",
       "      <th>Node ID</th>\n",
       "      <th>Repository name</th>\n",
       "      <th>WP</th>\n",
       "      <th>Task</th>\n",
       "      <th>Repository manager</th>\n",
       "      <th>Collaborators</th>\n",
       "      <th>Private</th>\n",
       "    </tr>\n",
       "  </thead>\n",
       "  <tbody>\n",
       "    <tr>\n",
       "      <th>0</th>\n",
       "      <td>10</td>\n",
       "      <td>[Repository Creation] - test_repo</td>\n",
       "      <td>I_kwDOMO4l_86OPOUC</td>\n",
       "      <td>test_repo</td>\n",
       "      <td>1</td>\n",
       "      <td>1.1</td>\n",
       "      <td>MclTTI</td>\n",
       "      <td>[MclTTI, agalizia]</td>\n",
       "      <td>True</td>\n",
       "    </tr>\n",
       "    <tr>\n",
       "      <th>1</th>\n",
       "      <td>11</td>\n",
       "      <td>[Repository Creation] - test_repo_2</td>\n",
       "      <td>I_kwDOMO4l_86OPkVa</td>\n",
       "      <td>test_repo_2</td>\n",
       "      <td>1</td>\n",
       "      <td>1.3</td>\n",
       "      <td>MclTTI</td>\n",
       "      <td>MclTTI, agalizia</td>\n",
       "      <td>True</td>\n",
       "    </tr>\n",
       "    <tr>\n",
       "      <th>2</th>\n",
       "      <td>13</td>\n",
       "      <td>[Repository Creation] - test_repo_3</td>\n",
       "      <td>I_kwDOMO4l_86OP2ml</td>\n",
       "      <td>test_repo_3</td>\n",
       "      <td>1</td>\n",
       "      <td>1.2</td>\n",
       "      <td>MclTTI</td>\n",
       "      <td>MclTTI</td>\n",
       "      <td>True</td>\n",
       "    </tr>\n",
       "  </tbody>\n",
       "</table>\n",
       "</div>"
      ],
      "text/plain": [
       "   Issue Number                                Title             Node ID  \\\n",
       "0            10    [Repository Creation] - test_repo  I_kwDOMO4l_86OPOUC   \n",
       "1            11  [Repository Creation] - test_repo_2  I_kwDOMO4l_86OPkVa   \n",
       "2            13  [Repository Creation] - test_repo_3  I_kwDOMO4l_86OP2ml   \n",
       "\n",
       "  Repository name  WP  Task Repository manager       Collaborators  Private  \n",
       "0       test_repo   1   1.1             MclTTI  [MclTTI, agalizia]     True  \n",
       "1     test_repo_2   1   1.3             MclTTI    MclTTI, agalizia     True  \n",
       "2     test_repo_3   1   1.2             MclTTI              MclTTI     True  "
      ]
     },
     "execution_count": 103,
     "metadata": {},
     "output_type": "execute_result"
    }
   ],
   "source": [
    "df_path = os.path.join(os.getcwd(),'Repository_list.csv')\n",
    "df = pd.read_csv(df_path)\n",
    "df"
   ]
  },
  {
   "cell_type": "code",
   "execution_count": null,
   "metadata": {},
   "outputs": [],
   "source": []
  },
  {
   "cell_type": "markdown",
   "metadata": {},
   "source": [
    "## Add items to the GitHub project"
   ]
  },
  {
   "cell_type": "code",
   "execution_count": 105,
   "metadata": {},
   "outputs": [],
   "source": [
    "def add_item_query(project_id,issue_id):\n",
    "  return f\"\"\"\n",
    "  mutation {{\n",
    "    addProjectV2ItemById(input: {{projectId: \"{project_id}\", contentId: \"{issue_id}\"}}) {{\n",
    "      item {{\n",
    "        id\n",
    "      }}\n",
    "    }}\n",
    "  }}\n",
    "  \"\"\"\n",
    "\n",
    "\n",
    "\n",
    "def update_field_query(project_id,item_id,field_id,value):\n",
    "\n",
    "  #print('proj id: ',project_id)\n",
    "  #print('item id: ',item_id)\n",
    "  #print('field id: ',field_id)\n",
    "  #print('value:',value)\n",
    "  \n",
    "  return f\"\"\"\n",
    "  mutation {{\n",
    "    updateProjectV2ItemFieldValue(input: {{\n",
    "      projectId: \"{project_id}\",\n",
    "      itemId: \"{item_id}\",  # Replace with the ID obtained from add_item_query\n",
    "      fieldId: \"{field_id}\",\n",
    "      value: {{\n",
    "        text: \"{value}\"\n",
    "      }}\n",
    "    }}) {{\n",
    "      projectV2Item {{\n",
    "        id\n",
    "      }}\n",
    "    }}\n",
    "  }}\n",
    "  \"\"\"\n",
    "\n",
    "\n",
    "\n",
    "def set_single_select_field(project_id,item_id,field_id,option_id):\n",
    "\n",
    "  #print('proj id: ',project_id)\n",
    "  #print('item id: ',item_id)\n",
    "  #print('field id: ',field_id)\n",
    "  #print('option id:',option_id)\n",
    "  \n",
    "  return f\"\"\"\n",
    "  mutation {{\n",
    "    updateProjectV2ItemFieldValue(input: {{\n",
    "      projectId: \"{project_id}\",\n",
    "      itemId: \"{item_id}\",\n",
    "      fieldId: \"{field_id}\",\n",
    "      value: {{\n",
    "        singleSelectOptionId: \"{option_id}\"\n",
    "      }}\n",
    "    }}) {{\n",
    "      projectV2Item {{\n",
    "        id\n",
    "      }}\n",
    "    }}\n",
    "  }}\n",
    "  \"\"\""
   ]
  },
  {
   "cell_type": "code",
   "execution_count": 117,
   "metadata": {},
   "outputs": [],
   "source": [
    "def add_item(project_id,issue_id,field_id,visib_id):\n",
    "\n",
    "    headers = {\n",
    "        'Authorization': f'Bearer {token}',\n",
    "        'Content-Type': 'application/json'\n",
    "    }\n",
    "\n",
    "    # Add new item to project\n",
    "    response = requests.post(url, json={'query': add_item_query(project_id,issue_id)}, headers=headers)\n",
    "\n",
    "    if response.status_code == 200:\n",
    "        result = response.json()\n",
    "        item_id = result['data']['addProjectV2ItemById']['item']['id']\n",
    "        print(f'New item ID: {item_id}')\n",
    "\n",
    "        # Update field of the new item\n",
    "        for f in field_id:\n",
    "\n",
    "            if f == 'Visibility':\n",
    "            \n",
    "                # Set visibility option ID\n",
    "                if df.loc[df['Issue Number'] == 10,'Private'].item() == False:\n",
    "                    visib = 'Public'\n",
    "                else:\n",
    "                    visib = 'Private'\n",
    "\n",
    "                option_id = visib_id[visib]\n",
    "            \n",
    "                # Update visibility field\n",
    "                print(f'Updating {f} <- {visib}')\n",
    "                response = requests.post(url, json={'query': set_single_select_field(project_id,item_id,field_id[f],option_id)}, headers=headers)\n",
    "\n",
    "            else:\n",
    "                value = df.loc[df[\"Node ID\"] == issue_id][f].item()\n",
    "                print(f'Updating {f} <- {value}')\n",
    "                response = requests.post(url, json={'query': update_field_query(project_id,item_id,field_id[f],value)}, headers=headers)\n",
    "\n",
    "            if response.status_code == 200:\n",
    "                pass\n",
    "                #result = response.json()     \n",
    "                #updated_item_id = result['data']['updateProjectV2ItemFieldValue']['projectV2Item']['id']\n",
    "                #print('Updated field ID:', updated_item_id)\n",
    "            else:\n",
    "                print('Error in field update:', response.status_code, response.text)\n",
    "        \n",
    "    else:\n",
    "        print('\\nErrore in item add:', response.status_code, response.text)\n",
    "    print()\n",
    "    \n",
    "    return None"
   ]
  },
  {
   "cell_type": "markdown",
   "metadata": {},
   "source": [
    "### Config and run"
   ]
  },
  {
   "cell_type": "code",
   "execution_count": 119,
   "metadata": {},
   "outputs": [
    {
     "name": "stdout",
     "output_type": "stream",
     "text": [
      "Project ID: PVT_kwDOCY2ck84Aj7Zu\n",
      "\n",
      "Issue Number 10 ID: I_kwDOMO4l_86OPOUC\n",
      "\n",
      "New item ID: PVTI_lADOCY2ck84Aj7ZuzgQnL-o\n",
      "Updating Repository name <- test_repo\n",
      "Updating WP <- 1\n",
      "Updating Task <- 1.1\n",
      "Updating Repository manager <- MclTTI\n",
      "Updating Collaborators <- [MclTTI, agalizia]\n",
      "Updating Visibility <- Private\n",
      "\n",
      "Issue 10 added successfully!\n",
      "\n",
      "Issue Number 11 ID: I_kwDOMO4l_86OPkVa\n",
      "\n",
      "New item ID: PVTI_lADOCY2ck84Aj7ZuzgQni4o\n",
      "Updating Repository name <- test_repo_2\n",
      "Updating WP <- 1\n",
      "Updating Task <- 1.3\n",
      "Updating Repository manager <- MclTTI\n",
      "Updating Collaborators <- MclTTI, agalizia\n",
      "Updating Visibility <- Private\n",
      "\n",
      "Issue 11 added successfully!\n",
      "\n",
      "Issue Number 13 ID: I_kwDOMO4l_86OP2ml\n",
      "\n",
      "New item ID: PVTI_lADOCY2ck84Aj7ZuzgQni5E\n",
      "Updating Repository name <- test_repo_3\n",
      "Updating WP <- 1\n",
      "Updating Task <- 1.2\n",
      "Updating Repository manager <- MclTTI\n",
      "Updating Collaborators <- MclTTI\n",
      "Updating Visibility <- Private\n",
      "\n",
      "Issue 13 added successfully!\n",
      "\n"
     ]
    }
   ],
   "source": [
    "print(f'Project ID: {project_id}\\n')\n",
    "\n",
    "for iss_num in df['Issue Number']:\n",
    "    issue_id = df.loc[df['Issue Number'] == iss_num]['Node ID'].item()\n",
    "    print(f'Issue Number {iss_num} ID: {issue_id}\\n')\n",
    "    add_item(project_id,issue_id,field_id,visib_id)\n",
    "    print(f'Issue {iss_num} added successfully!\\n')"
   ]
  }
 ],
 "metadata": {
  "kernelspec": {
   "display_name": "ICSCWP1",
   "language": "python",
   "name": "python3"
  },
  "language_info": {
   "codemirror_mode": {
    "name": "ipython",
    "version": 3
   },
   "file_extension": ".py",
   "mimetype": "text/x-python",
   "name": "python",
   "nbconvert_exporter": "python",
   "pygments_lexer": "ipython3",
   "version": "3.12.4"
  }
 },
 "nbformat": 4,
 "nbformat_minor": 2
}
