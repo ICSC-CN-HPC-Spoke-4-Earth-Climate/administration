{
 "cells": [
  {
   "cell_type": "markdown",
   "metadata": {},
   "source": [
    "# Issues2dataframe\n",
    "\n",
    "Read the body of a GitHub issue requesting the creation of a new repo.  \n",
    "Extract relevant fields and write them to a Pandas Dataframe."
   ]
  },
  {
   "cell_type": "code",
   "execution_count": 11,
   "metadata": {},
   "outputs": [],
   "source": [
    "import os\n",
    "from dotenv import load_dotenv\n",
    "\n",
    "import requests\n",
    "import pandas as pd "
   ]
  },
  {
   "cell_type": "code",
   "execution_count": 12,
   "metadata": {},
   "outputs": [
    {
     "data": {
      "text/plain": [
       "True"
      ]
     },
     "execution_count": 12,
     "metadata": {},
     "output_type": "execute_result"
    }
   ],
   "source": [
    "load_dotenv()"
   ]
  },
  {
   "cell_type": "code",
   "execution_count": 13,
   "metadata": {},
   "outputs": [],
   "source": [
    "def get_issue_content(owner, repo, issue_number, token):\n",
    "    url = f\"https://api.github.com/repos/{owner}/{repo}/issues/{issue_number}\"\n",
    "    headers = {\n",
    "        \"Authorization\": f\"token {token}\",\n",
    "        \"Accept\": \"application/vnd.github.v3+json\"\n",
    "    }\n",
    "    \n",
    "    response = requests.get(url, headers=headers)\n",
    "    \n",
    "    if response.status_code == 200:\n",
    "        return response.json()\n",
    "    else:\n",
    "        print(f\"Failed to fetch issue {issue_number}: {response.status_code}\")\n",
    "        return None\n",
    "\n",
    "\n",
    "\n",
    "def fetch_issues_numbers_id(owner, repo, token, label):\n",
    "    url = f\"https://api.github.com/repos/{owner}/{repo}/issues\"\n",
    "    headers = {\n",
    "        \"Authorization\": f\"token {token}\",\n",
    "        \"Accept\": \"application/vnd.github.v3+json\"\n",
    "    }\n",
    "    \n",
    "    issues = []\n",
    "    page = 1\n",
    "    \n",
    "    while True:\n",
    "        response = requests.get(url, headers=headers, params={'state': 'open', 'labels': label, 'page': page, 'per_page': 100})\n",
    "        if response.status_code != 200:\n",
    "            print(f\"Failed to retrieve issues: {response.status_code}\")\n",
    "            break\n",
    "        \n",
    "        page_issues = response.json()\n",
    "        if not page_issues:\n",
    "            break\n",
    "\n",
    "        for issue in page_issues:\n",
    "            if 'pull_request' not in issue:\n",
    "                #print(issue)\n",
    "                issues.append({\n",
    "                    'Issue Number': issue['number'],\n",
    "                    'Title' : issue['title'],\n",
    "                    'Node ID' : issue['node_id']\n",
    "                })\n",
    "        \n",
    "        page += 1\n",
    "    \n",
    "    return issues\n",
    "\n",
    "\n",
    "\n",
    "def extract_fields(description, fields):\n",
    "    extracted_data = {}\n",
    "    lines = description.splitlines()\n",
    "    \n",
    "    for line in lines:\n",
    "        #print(line)\n",
    "        for field in fields:\n",
    "            if line.startswith(field):\n",
    "                extracted_data[field] = line[len(field)+1:].lstrip()\n",
    "    \n",
    "    return extracted_data\n",
    "\n",
    "\n",
    "\n",
    "def issue_description2dict(description,fields):\n",
    "    separator = 'SEP'\n",
    "    text_clean = description.replace('\\r\\n\\r\\n', separator).replace('\\r\\n',separator)\n",
    "    text_clean = text_clean.split(separator)\n",
    "    #print(text_clean)\n",
    "    \n",
    "    RES = {}\n",
    "    \n",
    "    for line_num,line in enumerate(text_clean):\n",
    "        line = line.strip()\n",
    "        #print(line_num,line)\n",
    "         \n",
    "        for field in fields:\n",
    "            if line.startswith(field):\n",
    "                \n",
    "                if field == \"Visibility\":\n",
    "                    #print('OK')\n",
    "                    visibility_section = ''.join(text_clean[line_num+1:]).split('Purpose')[0]\n",
    "                    #print(visibility_section)\n",
    "                    if '- [x] Public'in visibility_section:\n",
    "                        RES['Private'] = False\n",
    "                    else:\n",
    "                        RES['Private'] = True\n",
    "                    continue\n",
    "            \n",
    "                RES[field] = line[len(field)+1:].lstrip()\n",
    "    \n",
    "    return RES"
   ]
  },
  {
   "cell_type": "markdown",
   "metadata": {},
   "source": [
    "## Configuration"
   ]
  },
  {
   "cell_type": "code",
   "execution_count": 8,
   "metadata": {},
   "outputs": [],
   "source": [
    "owner = \"ICSC-CN-HPC-Spoke-4-Earth-Climate\"\n",
    "repo = \"administration\"\n",
    "token = os.getenv('ICSC_GITHUB_ORG_PAT')"
   ]
  },
  {
   "cell_type": "markdown",
   "metadata": {},
   "source": [
    "## Fetch issues numbers"
   ]
  },
  {
   "cell_type": "code",
   "execution_count": 9,
   "metadata": {},
   "outputs": [
    {
     "data": {
      "text/plain": [
       "[{'Issue Number': 14,\n",
       "  'Title': '[Repository Creation] - test',\n",
       "  'Node ID': 'I_kwDOMO4l_86Oge3k'},\n",
       " {'Issue Number': 13,\n",
       "  'Title': '[Repository Creation] - test_repo_3',\n",
       "  'Node ID': 'I_kwDOMO4l_86OP2ml'},\n",
       " {'Issue Number': 11,\n",
       "  'Title': '[Repository Creation] - test_repo_2',\n",
       "  'Node ID': 'I_kwDOMO4l_86OPkVa'},\n",
       " {'Issue Number': 10,\n",
       "  'Title': '[Repository Creation] - test_repo',\n",
       "  'Node ID': 'I_kwDOMO4l_86OPOUC'}]"
      ]
     },
     "execution_count": 9,
     "metadata": {},
     "output_type": "execute_result"
    }
   ],
   "source": [
    "a = fetch_issues_numbers_id(owner,repo,token,label=\"new_repo\")\n",
    "a"
   ]
  },
  {
   "cell_type": "code",
   "execution_count": 14,
   "metadata": {},
   "outputs": [
    {
     "data": {
      "text/html": [
       "<div>\n",
       "<style scoped>\n",
       "    .dataframe tbody tr th:only-of-type {\n",
       "        vertical-align: middle;\n",
       "    }\n",
       "\n",
       "    .dataframe tbody tr th {\n",
       "        vertical-align: top;\n",
       "    }\n",
       "\n",
       "    .dataframe thead th {\n",
       "        text-align: right;\n",
       "    }\n",
       "</style>\n",
       "<table border=\"1\" class=\"dataframe\">\n",
       "  <thead>\n",
       "    <tr style=\"text-align: right;\">\n",
       "      <th></th>\n",
       "      <th>Issue Number</th>\n",
       "      <th>Title</th>\n",
       "      <th>Node ID</th>\n",
       "    </tr>\n",
       "  </thead>\n",
       "  <tbody>\n",
       "    <tr>\n",
       "      <th>3</th>\n",
       "      <td>10</td>\n",
       "      <td>[Repository Creation] - test_repo</td>\n",
       "      <td>I_kwDOMO4l_86OPOUC</td>\n",
       "    </tr>\n",
       "    <tr>\n",
       "      <th>2</th>\n",
       "      <td>11</td>\n",
       "      <td>[Repository Creation] - test_repo_2</td>\n",
       "      <td>I_kwDOMO4l_86OPkVa</td>\n",
       "    </tr>\n",
       "    <tr>\n",
       "      <th>1</th>\n",
       "      <td>13</td>\n",
       "      <td>[Repository Creation] - test_repo_3</td>\n",
       "      <td>I_kwDOMO4l_86OP2ml</td>\n",
       "    </tr>\n",
       "    <tr>\n",
       "      <th>0</th>\n",
       "      <td>14</td>\n",
       "      <td>[Repository Creation] - test</td>\n",
       "      <td>I_kwDOMO4l_86Oge3k</td>\n",
       "    </tr>\n",
       "  </tbody>\n",
       "</table>\n",
       "</div>"
      ],
      "text/plain": [
       "   Issue Number                                Title             Node ID\n",
       "3            10    [Repository Creation] - test_repo  I_kwDOMO4l_86OPOUC\n",
       "2            11  [Repository Creation] - test_repo_2  I_kwDOMO4l_86OPkVa\n",
       "1            13  [Repository Creation] - test_repo_3  I_kwDOMO4l_86OP2ml\n",
       "0            14         [Repository Creation] - test  I_kwDOMO4l_86Oge3k"
      ]
     },
     "execution_count": 14,
     "metadata": {},
     "output_type": "execute_result"
    }
   ],
   "source": [
    "df = pd.DataFrame(a).sort_values(by='Issue Number',ascending=True)\n",
    "df"
   ]
  },
  {
   "cell_type": "markdown",
   "metadata": {},
   "source": [
    "## Get issues content"
   ]
  },
  {
   "cell_type": "code",
   "execution_count": 15,
   "metadata": {},
   "outputs": [],
   "source": [
    "fields = [\"Repository name\",\"WP\",\"Task\",\"Repository manager\",\"Collaborators\",\"Visibility\"]"
   ]
  },
  {
   "cell_type": "code",
   "execution_count": 16,
   "metadata": {},
   "outputs": [
    {
     "data": {
      "text/html": [
       "<div>\n",
       "<style scoped>\n",
       "    .dataframe tbody tr th:only-of-type {\n",
       "        vertical-align: middle;\n",
       "    }\n",
       "\n",
       "    .dataframe tbody tr th {\n",
       "        vertical-align: top;\n",
       "    }\n",
       "\n",
       "    .dataframe thead th {\n",
       "        text-align: right;\n",
       "    }\n",
       "</style>\n",
       "<table border=\"1\" class=\"dataframe\">\n",
       "  <thead>\n",
       "    <tr style=\"text-align: right;\">\n",
       "      <th></th>\n",
       "      <th>Issue Number</th>\n",
       "      <th>Title</th>\n",
       "      <th>Node ID</th>\n",
       "      <th>Repository name</th>\n",
       "      <th>WP</th>\n",
       "      <th>Task</th>\n",
       "      <th>Repository manager</th>\n",
       "      <th>Collaborators</th>\n",
       "      <th>Private</th>\n",
       "    </tr>\n",
       "  </thead>\n",
       "  <tbody>\n",
       "    <tr>\n",
       "      <th>3</th>\n",
       "      <td>10</td>\n",
       "      <td>[Repository Creation] - test_repo</td>\n",
       "      <td>I_kwDOMO4l_86OPOUC</td>\n",
       "      <td>None</td>\n",
       "      <td>None</td>\n",
       "      <td>None</td>\n",
       "      <td>None</td>\n",
       "      <td>None</td>\n",
       "      <td>None</td>\n",
       "    </tr>\n",
       "    <tr>\n",
       "      <th>2</th>\n",
       "      <td>11</td>\n",
       "      <td>[Repository Creation] - test_repo_2</td>\n",
       "      <td>I_kwDOMO4l_86OPkVa</td>\n",
       "      <td>None</td>\n",
       "      <td>None</td>\n",
       "      <td>None</td>\n",
       "      <td>None</td>\n",
       "      <td>None</td>\n",
       "      <td>None</td>\n",
       "    </tr>\n",
       "    <tr>\n",
       "      <th>1</th>\n",
       "      <td>13</td>\n",
       "      <td>[Repository Creation] - test_repo_3</td>\n",
       "      <td>I_kwDOMO4l_86OP2ml</td>\n",
       "      <td>None</td>\n",
       "      <td>None</td>\n",
       "      <td>None</td>\n",
       "      <td>None</td>\n",
       "      <td>None</td>\n",
       "      <td>None</td>\n",
       "    </tr>\n",
       "    <tr>\n",
       "      <th>0</th>\n",
       "      <td>14</td>\n",
       "      <td>[Repository Creation] - test</td>\n",
       "      <td>I_kwDOMO4l_86Oge3k</td>\n",
       "      <td>None</td>\n",
       "      <td>None</td>\n",
       "      <td>None</td>\n",
       "      <td>None</td>\n",
       "      <td>None</td>\n",
       "      <td>None</td>\n",
       "    </tr>\n",
       "  </tbody>\n",
       "</table>\n",
       "</div>"
      ],
      "text/plain": [
       "   Issue Number                                Title             Node ID  \\\n",
       "3            10    [Repository Creation] - test_repo  I_kwDOMO4l_86OPOUC   \n",
       "2            11  [Repository Creation] - test_repo_2  I_kwDOMO4l_86OPkVa   \n",
       "1            13  [Repository Creation] - test_repo_3  I_kwDOMO4l_86OP2ml   \n",
       "0            14         [Repository Creation] - test  I_kwDOMO4l_86Oge3k   \n",
       "\n",
       "  Repository name    WP  Task Repository manager Collaborators Private  \n",
       "3            None  None  None               None          None    None  \n",
       "2            None  None  None               None          None    None  \n",
       "1            None  None  None               None          None    None  \n",
       "0            None  None  None               None          None    None  "
      ]
     },
     "execution_count": 16,
     "metadata": {},
     "output_type": "execute_result"
    }
   ],
   "source": [
    "new_columns = fields.copy()\n",
    "new_columns.remove(\"Visibility\")\n",
    "new_columns.append(\"Private\")\n",
    "\n",
    "df[new_columns] = None\n",
    "df"
   ]
  },
  {
   "cell_type": "code",
   "execution_count": 18,
   "metadata": {},
   "outputs": [
    {
     "name": "stdout",
     "output_type": "stream",
     "text": [
      "Retrieving the description of issue #10\n",
      "Retrieving the description of issue #11\n",
      "Retrieving the description of issue #13\n",
      "Retrieving the description of issue #14\n"
     ]
    },
    {
     "data": {
      "text/html": [
       "<div>\n",
       "<style scoped>\n",
       "    .dataframe tbody tr th:only-of-type {\n",
       "        vertical-align: middle;\n",
       "    }\n",
       "\n",
       "    .dataframe tbody tr th {\n",
       "        vertical-align: top;\n",
       "    }\n",
       "\n",
       "    .dataframe thead th {\n",
       "        text-align: right;\n",
       "    }\n",
       "</style>\n",
       "<table border=\"1\" class=\"dataframe\">\n",
       "  <thead>\n",
       "    <tr style=\"text-align: right;\">\n",
       "      <th></th>\n",
       "      <th>Issue Number</th>\n",
       "      <th>Title</th>\n",
       "      <th>Node ID</th>\n",
       "      <th>Repository name</th>\n",
       "      <th>WP</th>\n",
       "      <th>Task</th>\n",
       "      <th>Repository manager</th>\n",
       "      <th>Collaborators</th>\n",
       "      <th>Private</th>\n",
       "    </tr>\n",
       "  </thead>\n",
       "  <tbody>\n",
       "    <tr>\n",
       "      <th>3</th>\n",
       "      <td>10</td>\n",
       "      <td>[Repository Creation] - test_repo</td>\n",
       "      <td>I_kwDOMO4l_86OPOUC</td>\n",
       "      <td>test_repo</td>\n",
       "      <td>1</td>\n",
       "      <td>1.1</td>\n",
       "      <td>MclTTI</td>\n",
       "      <td>[MclTTI, agalizia]</td>\n",
       "      <td>True</td>\n",
       "    </tr>\n",
       "    <tr>\n",
       "      <th>2</th>\n",
       "      <td>11</td>\n",
       "      <td>[Repository Creation] - test_repo_2</td>\n",
       "      <td>I_kwDOMO4l_86OPkVa</td>\n",
       "      <td>test_repo_2</td>\n",
       "      <td>1</td>\n",
       "      <td>1.3</td>\n",
       "      <td>MclTTI</td>\n",
       "      <td>MclTTI, agalizia</td>\n",
       "      <td>True</td>\n",
       "    </tr>\n",
       "    <tr>\n",
       "      <th>1</th>\n",
       "      <td>13</td>\n",
       "      <td>[Repository Creation] - test_repo_3</td>\n",
       "      <td>I_kwDOMO4l_86OP2ml</td>\n",
       "      <td>test_repo_3</td>\n",
       "      <td>1</td>\n",
       "      <td>1.2</td>\n",
       "      <td>MclTTI</td>\n",
       "      <td>MclTTI</td>\n",
       "      <td>True</td>\n",
       "    </tr>\n",
       "    <tr>\n",
       "      <th>0</th>\n",
       "      <td>14</td>\n",
       "      <td>[Repository Creation] - test</td>\n",
       "      <td>I_kwDOMO4l_86Oge3k</td>\n",
       "      <td>test</td>\n",
       "      <td>2</td>\n",
       "      <td>2.3</td>\n",
       "      <td>&lt;GitHub username of the repository manager&gt;</td>\n",
       "      <td>[comma separated list of collaborators' GitHub...</td>\n",
       "      <td>False</td>\n",
       "    </tr>\n",
       "  </tbody>\n",
       "</table>\n",
       "</div>"
      ],
      "text/plain": [
       "   Issue Number                                Title             Node ID  \\\n",
       "3            10    [Repository Creation] - test_repo  I_kwDOMO4l_86OPOUC   \n",
       "2            11  [Repository Creation] - test_repo_2  I_kwDOMO4l_86OPkVa   \n",
       "1            13  [Repository Creation] - test_repo_3  I_kwDOMO4l_86OP2ml   \n",
       "0            14         [Repository Creation] - test  I_kwDOMO4l_86Oge3k   \n",
       "\n",
       "  Repository name WP Task                           Repository manager  \\\n",
       "3       test_repo  1  1.1                                       MclTTI   \n",
       "2     test_repo_2  1  1.3                                       MclTTI   \n",
       "1     test_repo_3  1  1.2                                       MclTTI   \n",
       "0            test  2  2.3  <GitHub username of the repository manager>   \n",
       "\n",
       "                                       Collaborators Private  \n",
       "3                                 [MclTTI, agalizia]    True  \n",
       "2                                   MclTTI, agalizia    True  \n",
       "1                                             MclTTI    True  \n",
       "0  [comma separated list of collaborators' GitHub...   False  "
      ]
     },
     "execution_count": 18,
     "metadata": {},
     "output_type": "execute_result"
    }
   ],
   "source": [
    "for n in df['Issue Number']:\n",
    "    print(f'Retrieving the description of issue #{n}')\n",
    "    \n",
    "    issue_content = get_issue_content(owner,repo,n,token)\n",
    "    #print(issue_content)\n",
    "    descr = issue_description2dict(issue_content[\"body\"],fields)\n",
    "    #print(descr)\n",
    "\n",
    "    # Update dataframe\n",
    "    for c in new_columns:\n",
    "        df.loc[df['Issue Number'] == n, c] = descr[c]\n",
    "\n",
    "df"
   ]
  },
  {
   "cell_type": "markdown",
   "metadata": {},
   "source": [
    "## Save to file"
   ]
  },
  {
   "cell_type": "code",
   "execution_count": 19,
   "metadata": {},
   "outputs": [],
   "source": [
    "save_file = os.path.join(os.getcwd(),\"Repository_list.csv\")\n",
    "df.to_csv(save_file,index=False)"
   ]
  },
  {
   "cell_type": "code",
   "execution_count": null,
   "metadata": {},
   "outputs": [],
   "source": []
  },
  {
   "cell_type": "code",
   "execution_count": null,
   "metadata": {},
   "outputs": [],
   "source": []
  }
 ],
 "metadata": {
  "kernelspec": {
   "display_name": "ICSCWP1",
   "language": "python",
   "name": "python3"
  },
  "language_info": {
   "codemirror_mode": {
    "name": "ipython",
    "version": 3
   },
   "file_extension": ".py",
   "mimetype": "text/x-python",
   "name": "python",
   "nbconvert_exporter": "python",
   "pygments_lexer": "ipython3",
   "version": "3.12.4"
  }
 },
 "nbformat": 4,
 "nbformat_minor": 2
}
